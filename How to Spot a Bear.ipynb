{
 "cells": [
  {
   "cell_type": "markdown",
   "metadata": {
    "collapsed": true
   },
   "source": [
    "# How to spot a Bear - Intro to Machine Learning"
   ]
  },
  {
   "cell_type": "markdown",
   "metadata": {},
   "source": [
    "* How would you spot a bear if you saw one in the woods?\n",
    "* Machine Learning is the field of programming that tries to make computers mimic human's range of learning, reasoning and decision making\n",
    "* What are the features you would look for?"
   ]
  },
  {
   "cell_type": "code",
   "execution_count": null,
   "metadata": {
    "collapsed": true
   },
   "outputs": [],
   "source": [
    "import pandas as pd\n",
    "import numpy as np\n",
    "import warnings\n",
    "\n",
    "from IPython.core.display import Image, HTML\n",
    "from helpers import get_image, get_images, get_pca\n",
    "from plot import plot2D, plot3D, animate2D, plot_decision_regions\n",
    "import matplotlib.pyplot as plt\n",
    "\n",
    "warnings.simplefilter(action='ignore', category=RuntimeWarning)"
   ]
  },
  {
   "cell_type": "code",
   "execution_count": null,
   "metadata": {},
   "outputs": [],
   "source": [
    "Image(filename='images/bear.jpg', width=500) "
   ]
  },
  {
   "cell_type": "markdown",
   "metadata": {},
   "source": [
    "# What features would you select?"
   ]
  },
  {
   "cell_type": "code",
   "execution_count": null,
   "metadata": {},
   "outputs": [],
   "source": [
    "df = pd.DataFrame(\n",
    "    columns=['Image', 'Number of legs', 'Bear?'],\n",
    "    data=[[get_image('bear'), 4, 'Yes']],\n",
    "    index=['Grizzly bear'])\n",
    "HTML(df.to_html(escape=False))"
   ]
  },
  {
   "cell_type": "code",
   "execution_count": null,
   "metadata": {
    "collapsed": true
   },
   "outputs": [],
   "source": []
  },
  {
   "cell_type": "code",
   "execution_count": null,
   "metadata": {},
   "outputs": [],
   "source": [
    "df = df.append(pd.Series([get_image('table'), 4, 'No'], index=df.columns, name='Table'))\n",
    "HTML(df.to_html(escape=False))"
   ]
  },
  {
   "cell_type": "code",
   "execution_count": null,
   "metadata": {},
   "outputs": [],
   "source": [
    "df.insert(2, 'Number of eyes', [2, 0])\n",
    "HTML(df.to_html(escape=False))"
   ]
  },
  {
   "cell_type": "code",
   "execution_count": null,
   "metadata": {},
   "outputs": [],
   "source": [
    "df.insert(3, 'Weight (kg)', [300, 5])\n",
    "HTML(df.to_html(escape=False))"
   ]
  },
  {
   "cell_type": "code",
   "execution_count": null,
   "metadata": {},
   "outputs": [],
   "source": [
    "df = df.append(pd.Series([get_image('zebra'), 4, 2, 300, 'No'], index=df.columns, name='Zebra'))\n",
    "HTML(df.to_html(escape=False))"
   ]
  },
  {
   "cell_type": "code",
   "execution_count": null,
   "metadata": {},
   "outputs": [],
   "source": [
    "df.insert(4, 'Color', ['Brown', 'Brown', 'B&W'])\n",
    "HTML(df.to_html(escape=False))"
   ]
  },
  {
   "cell_type": "code",
   "execution_count": null,
   "metadata": {},
   "outputs": [],
   "source": [
    "df = df.append(pd.Series([get_image('walrus'), 4, 2, 350, 'Brown', 'No'], index=df.columns, name='Walrus'))\n",
    "HTML(df.to_html(escape=False))"
   ]
  },
  {
   "cell_type": "code",
   "execution_count": null,
   "metadata": {},
   "outputs": [],
   "source": [
    "df = df.append(pd.Series([get_image('panda'), 4, 2, 100, 'B&W', 'Yes'], index=df.columns, name='Panda'))\n",
    "df = df.append(pd.Series([get_image('polar_bear'), 4, 2, 300, 'White', 'Yes'], index=df.columns, name='Polar bear'))\n",
    "HTML(df.to_html(escape=False))"
   ]
  },
  {
   "cell_type": "code",
   "execution_count": null,
   "metadata": {},
   "outputs": [],
   "source": [
    "df.insert(5, 'Texture', ['Long fur', 'Wood', 'Short fur', 'Leather', 'Long fur', 'Long fur'])\n",
    "df.insert(6, 'Sound', ['Roar', 'None', 'Grunt', 'Moan', 'Roar', 'Roar'])\n",
    "HTML(df.to_html(escape=False))"
   ]
  },
  {
   "cell_type": "code",
   "execution_count": null,
   "metadata": {},
   "outputs": [],
   "source": [
    "df = df.append(pd.Series([get_image('tiger'), 4, 2, 300, 'Light brown', 'Short fur', 'Roar', 'No'], index=df.columns, name='Tiger'))\n",
    "df = df.append(pd.Series([get_image('lion'), 4, 2, 200, 'Striped', 'Short fur', 'Roar', 'No'], index=df.columns, name='Lion'))\n",
    "HTML(df.to_html(escape=False))"
   ]
  },
  {
   "cell_type": "code",
   "execution_count": null,
   "metadata": {},
   "outputs": [],
   "source": [
    "df.insert(7, 'Lifespan', [25, 0, 30, 30, 20, 20, 22, 12])\n",
    "df.insert(8, 'Claw length (cm)', [15, 0, 0, 0, 10, 20, 5, 5])\n",
    "HTML(df.to_html(escape=False))"
   ]
  },
  {
   "cell_type": "markdown",
   "metadata": {},
   "source": [
    "## Feature engineering\n",
    "\n",
    "* Choose independent features"
   ]
  },
  {
   "cell_type": "code",
   "execution_count": null,
   "metadata": {},
   "outputs": [],
   "source": [
    "df = df.drop(['Number of legs', 'Number of eyes'], axis=1)\n",
    "HTML(df.to_html(escape=False))"
   ]
  },
  {
   "cell_type": "markdown",
   "metadata": {},
   "source": [
    "* Normalize values\n",
    "* Convert non numerical features to numeric value"
   ]
  },
  {
   "cell_type": "code",
   "execution_count": null,
   "metadata": {},
   "outputs": [],
   "source": [
    "df = df.rename(columns={'Texture': 'Fur length (cm)', 'Sound': 'Loudness (db)', 'Color': 'Pixel intensity'})\n",
    "df['Pixel intensity'] = [190, 220, 140, 150, 200, 40, 150, 120]\n",
    "df['Fur length (cm)'] = [17, 0, 5, 0, 13, 16, 6, 4]\n",
    "df['Loudness (db)'] = [120, 0, 30, 50, 70, 130, 90, 100]\n",
    "df['Bear?'] = [1, 0, 0, 0, 1, 1, 0, 0]\n",
    "HTML(df.to_html(escape=False))"
   ]
  },
  {
   "cell_type": "markdown",
   "metadata": {},
   "source": [
    "## Add more data!\n",
    "\n",
    "* Allows model to generalize better\n",
    "* Removes bias that are inherent in small datasets"
   ]
  },
  {
   "cell_type": "markdown",
   "metadata": {},
   "source": [
    "### Both positive"
   ]
  },
  {
   "cell_type": "code",
   "execution_count": null,
   "metadata": {},
   "outputs": [],
   "source": [
    "df = df.append(pd.Series([get_image('babybear'), 100, 165, 13, 100, 23, 9, 1], index=df.columns, name='Baby bear'))\n",
    "df = df.append(pd.Series([get_image('blackbear'), 220, 235, 15, 90, 17, 10, 1], index=df.columns, name='Black bear'))\n",
    "df = df.append(pd.Series([get_image('mamabear'), 320, 190, 18, 120, 27, 15, 1], index=df.columns, name='Mother bear'))\n",
    "df = df.append(pd.Series([get_image('papabear'), 350, 215, 19, 120, 22, 16, 1], index=df.columns, name='Father bear'))\n",
    "HTML(df.to_html(escape=False))"
   ]
  },
  {
   "cell_type": "markdown",
   "metadata": {},
   "source": [
    "### And negative"
   ]
  },
  {
   "cell_type": "code",
   "execution_count": null,
   "metadata": {},
   "outputs": [],
   "source": [
    "df = df.append(pd.Series([get_image('monkey'), 40, 165, 4, 60, 18, 3, 0], index=df.columns, name='Monkey'))\n",
    "df = df.append(pd.Series([get_image('goose'), 10, 125, 0, 65, 16, 0, 0], index=df.columns, name='Goose'))\n",
    "df = df.append(pd.Series([get_image('duck'), 5, 140, 0, 45, 7, 0, 0], index=df.columns, name='Duck'))\n",
    "df = df.append(pd.Series([get_image('fox'), 30, 160, 5, 45, 4, 3, 0], index=df.columns, name='Fox'))\n",
    "df = df.append(pd.Series([get_image('moose'), 500, 170, 3, 55, 20, 0, 0], index=df.columns, name='Moose'))\n",
    "HTML(df.to_html(escape=False))"
   ]
  },
  {
   "cell_type": "markdown",
   "metadata": {},
   "source": [
    "### Visualizing correlations"
   ]
  },
  {
   "cell_type": "code",
   "execution_count": null,
   "metadata": {},
   "outputs": [],
   "source": [
    "columns = list(df.columns[i] for i in [1, 2, 3, 4, 5, 6])\n",
    "fig, sub = plt.subplots(6, 6, figsize=(15, 15))\n",
    "\n",
    "yes = df['Bear?'] == 1\n",
    "dfs = [df[yes], df[~yes]]\n",
    "for row, x in zip(sub, df[columns]):\n",
    "    for ax, y in zip(row, df[columns]):\n",
    "        for _df, color in zip(dfs, ['r', 'b']):\n",
    "            ax.scatter(_df[x], _df[y])\n",
    "        \n",
    "plt.show()"
   ]
  },
  {
   "cell_type": "markdown",
   "metadata": {},
   "source": [
    "### Prinicipal Components\n",
    "\n",
    "* Collapses multi-dimensions into projection into n axes that preserve the most variation in the data"
   ]
  },
  {
   "cell_type": "markdown",
   "metadata": {},
   "source": [
    "### PCA in 2 dimensions"
   ]
  },
  {
   "cell_type": "code",
   "execution_count": null,
   "metadata": {},
   "outputs": [],
   "source": [
    "df_pca2d = get_pca(2, df[columns])\n",
    "df_pca2d['Bear?'] = df['Bear?']\n",
    "yes = df_pca2d['Bear?'] == 1\n",
    "plot2D(*(df_pca2d[yes], df_pca2d[~yes]), columns=[df_pca2d.columns[i] for i in [0, 1]], figsize=(10, 10), plot_titles=True)"
   ]
  },
  {
   "cell_type": "markdown",
   "metadata": {},
   "source": [
    "### PCA in 3 dimensions"
   ]
  },
  {
   "cell_type": "code",
   "execution_count": null,
   "metadata": {},
   "outputs": [],
   "source": [
    "df_pca3d = get_pca(3, df[columns])\n",
    "df_pca3d['Bear?'] = df['Bear?']\n",
    "yes = df_pca3d['Bear?'] == 1\n",
    "plot3D(*(df_pca3d[yes], df_pca3d[~yes]), columns=[df_pca3d.columns[i] for i in [0, 1, 2]], figsize=(10, 10), plot_titles=True)"
   ]
  },
  {
   "cell_type": "markdown",
   "metadata": {},
   "source": [
    "## SVM Demo"
   ]
  },
  {
   "cell_type": "code",
   "execution_count": null,
   "metadata": {},
   "outputs": [],
   "source": [
    "df_yes = df_pca2d[yes].reset_index(drop=True)\n",
    "df_no = df_pca2d[~yes].reset_index(drop=True)\n",
    "df_zipped = pd.concat([df_yes, df_no]).sort_index()\n",
    "anim = animate2D(df_zipped, factor=100.0)\n",
    "HTML(anim.to_html5_video())"
   ]
  },
  {
   "cell_type": "markdown",
   "metadata": {},
   "source": [
    "Other gaussian models are: but all of these pale in comparison to the power of neural nets"
   ]
  },
  {
   "cell_type": "markdown",
   "metadata": {},
   "source": [
    "## Neural Network Demo"
   ]
  },
  {
   "cell_type": "code",
   "execution_count": null,
   "metadata": {},
   "outputs": [],
   "source": [
    "import neural_network as nn\n",
    "\n",
    "SEED = 20170914\n",
    "ITERATION_COUNT = 1500\n",
    "DELTA = 0.001\n",
    "\n",
    "training_input = (df.iloc[:, 1:7].transform(lambda x: x / 100.0)).values\n",
    "print(\"Training input: \")\n",
    "print(training_input)\n",
    "training_output = df.iloc[:, 7].values\n",
    "print(\"Training output: \")\n",
    "print(training_output)\n",
    "\n",
    "my_nn = nn.NeuralNetwork(6, 1, SEED)\n",
    "print(\"Random starting synaptic weights: \")\n",
    "print(my_nn.synaptic_weights)\n",
    "\n",
    "print (\"Training by iterations: \")\n",
    "errors = my_nn.train(np.array(training_input), np.array([training_output]).T, ITERATION_COUNT)\n",
    "print (\"New synaptic weights after training: \")\n",
    "print (my_nn.synaptic_weights)\n",
    "\n",
    "# Test the neural network with a new situation.\n",
    "print (\"Considering new situation [2.26, 1.78, .09, .78, .19, .09] -> ?: \")\n",
    "print (my_nn.predict(np.array([2.26, 1.78, .09, .78, .19, .09])))\n",
    "print (my_nn.predict(np.array([.26, .38, .10, .56, .20, .07])))\n",
    "print (my_nn.predict(np.array([3, 1.9, .17, 1.2, .25, .15])))\n",
    "print (my_nn.predict(np.array([3, 1.4, 0.05, 0.3, 0.3, 0])))\n",
    "\n",
    "print (\"Untrain neural network: \")\n",
    "my_nn.untrain()\n",
    "print(my_nn.synaptic_weights)\n",
    "\n",
    "print (\"Training until fit: \")\n",
    "my_nn.train_until_fit(np.array(training_input), np.array([training_output]).T, error_delta=DELTA)\n",
    "print (\"New synaptic weights after training: \")\n",
    "print (my_nn.synaptic_weights)\n",
    "\n",
    "# Test the neural network again\n",
    "print (\"Considering new situation [2.26, 1.78, .09, .78, .19, .09] -> ?: \")\n",
    "print (my_nn.predict(np.array([2.26, 1.78, .09, .78, .19, .09])))\n",
    "print (my_nn.predict(np.array([.26, .38, .10, .56, .20, .07])))\n",
    "print (my_nn.predict(np.array([3, 1.9, .17, 1.2, .25, .15])))\n",
    "print (my_nn.predict(np.array([3, 1.4, 0.05, 0.3, 0.3, 0])))"
   ]
  },
  {
   "cell_type": "code",
   "execution_count": null,
   "metadata": {},
   "outputs": [],
   "source": [
    "plt.close()\n",
    "\n",
    "ax = plt.subplot()\n",
    "ax.plot(range(ITERATION_COUNT), errors)\n",
    "plt.xlabel('times')\n",
    "plt.ylabel('error')\n",
    "plt.title('Error Curve')\n",
    "\n",
    "plt.show()"
   ]
  },
  {
   "cell_type": "code",
   "execution_count": null,
   "metadata": {
    "collapsed": true
   },
   "outputs": [],
   "source": []
  }
 ],
 "metadata": {
  "kernelspec": {
   "display_name": "Python 3",
   "language": "python",
   "name": "python3"
  },
  "language_info": {
   "codemirror_mode": {
    "name": "ipython",
    "version": 3
   },
   "file_extension": ".py",
   "mimetype": "text/x-python",
   "name": "python",
   "nbconvert_exporter": "python",
   "pygments_lexer": "ipython3",
   "version": "3.6.2"
  }
 },
 "nbformat": 4,
 "nbformat_minor": 2
}
